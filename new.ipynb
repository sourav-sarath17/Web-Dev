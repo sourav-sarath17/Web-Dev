{
 "cells": [
  {
   "cell_type": "code",
   "execution_count": null,
   "metadata": {},
   "outputs": [],
   "source": [
    "from sklearn.svm import svr\n",
    "from sklearn.model_selection import train_test_split\n",
    "from sklearn.metrics import accuracy_score\n",
    "from sklearn.metrics import mean_squared_error\n",
    "# data={\n",
    "#     Experience:[2,1,3,5,10],\n",
    "#     Salary:[20000,10000,30000,50000,100000]\n",
    "# }\n",
    "# df=pd.DataFrame(data)\n",
    "\n",
    "np.random.seed(42)\n",
    "X=np.random.rand(100,1)*10\n",
    "y=5000*X+30000+np.random.rand(100,1)*5000\n",
    "x_train,x_test,y_train,y_test=train_test_split(X,y,train_size=0.7,random_state=42)\n",
    "model=svr(kernel=linear)\n",
    "model.fit(x_train,y_train)\n",
    "result=model.predict(x_test)\n",
    "accuracy=accuracy_score(y_test,result)*100\n",
    "print(f'Accuracy is {accuracy}')\n",
    "mse=mean_squared_error(y_test,result) \n",
    "print(\"Mean Square Error\",mse) \n",
    "r2 =r2_score(y_test,result) \n",
    "print(\"Mean Square Error\",mse) \n",
    "print(\"R Squared:\",r2)\n"
   ]
  }
 ],
 "metadata": {
  "kernelspec": {
   "display_name": "Python 3",
   "language": "python",
   "name": "python3"
  },
  "language_info": {
   "name": "python",
   "version": "3.12.0"
  }
 },
 "nbformat": 4,
 "nbformat_minor": 2
}
